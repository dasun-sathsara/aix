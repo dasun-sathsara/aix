{
 "cells": [
  {
   "cell_type": "code",
   "execution_count": 1,
   "metadata": {},
   "outputs": [],
   "source": [
    "from aix.api.gemini_api import GeminiAPI\n",
    "from aix.api.generic_api import GenericAPI\n",
    "from aix.api.openai_api import OpenAI_API\n",
    "from aix.conversation_manager import Config, ConversationHandler\n",
    "from aix.utils.configs import deepseek_settings, gemini_settings, openai_settings, qwen_settings\n",
    "from aix.utils.functions import read_system_prompt\n"
   ]
  },
  {
   "cell_type": "code",
   "execution_count": 2,
   "metadata": {},
   "outputs": [],
   "source": [
    "gemini_api = GeminiAPI(\n",
    "    api_key=gemini_settings.api_key,\n",
    "    model=gemini_settings.models.GEMINI_FLASH.value,\n",
    "    system_prompt=read_system_prompt(\"general_assistant\"),\n",
    ")\n",
    "\n",
    "openai_api = OpenAI_API(\n",
    "    api_key=openai_settings.api_key,\n",
    "    model=openai_settings.models.GPT4O_MINI.value,\n",
    "    system_prompt=read_system_prompt(\"general_assistant\"),\n",
    ")\n",
    "\n",
    "deepseek_api = GenericAPI(\n",
    "    api_key=deepseek_settings.api_key,\n",
    "    base_url=deepseek_settings.base_url,\n",
    "    model=deepseek_settings.model_name.value,\n",
    "    system_prompt=read_system_prompt(\"general_assistant\"),\n",
    ")\n",
    "\n",
    "qwen_api = GenericAPI(\n",
    "    api_key=qwen_settings.api_key,\n",
    "    base_url=qwen_settings.base_url,\n",
    "    model=qwen_settings.model_name.value,\n",
    "    system_prompt=read_system_prompt(\"general_assistant\"),\n",
    ")"
   ]
  },
  {
   "cell_type": "code",
   "execution_count": 3,
   "metadata": {},
   "outputs": [],
   "source": [
    "app = ConversationHandler(api=qwen_api)"
   ]
  },
  {
   "cell_type": "code",
   "execution_count": 4,
   "metadata": {},
   "outputs": [],
   "source": [
    "app.set_config(Config(print_code_block=True, print_error_block=True, print_file_content=True,save_conversation=True))"
   ]
  },
  {
   "cell_type": "code",
   "execution_count": 5,
   "metadata": {},
   "outputs": [],
   "source": [
    "code_block = r\"\"\"\n",
    "\n",
    "\"\"\"\n"
   ]
  },
  {
   "cell_type": "code",
   "execution_count": 6,
   "metadata": {},
   "outputs": [],
   "source": [
    "error_block = r\"\"\"\n",
    "\n",
    "\"\"\""
   ]
  },
  {
   "cell_type": "code",
   "execution_count": 7,
   "metadata": {},
   "outputs": [],
   "source": [
    "prompt = r\"\"\"\n",
    "Who are we kidding?\n",
    "\"\"\""
   ]
  },
  {
   "cell_type": "code",
   "execution_count": 8,
   "metadata": {},
   "outputs": [],
   "source": [
    "app.send_message(prompt)"
   ]
  }
 ],
 "metadata": {
  "kernelspec": {
   "display_name": "Python 3",
   "language": "python",
   "name": "python3"
  },
  "language_info": {
   "codemirror_mode": {
    "name": "ipython",
    "version": 3
   },
   "file_extension": ".py",
   "mimetype": "text/x-python",
   "name": "python",
   "nbconvert_exporter": "python",
   "pygments_lexer": "ipython3",
   "version": "3.12.5"
  }
 },
 "nbformat": 4,
 "nbformat_minor": 2
}
