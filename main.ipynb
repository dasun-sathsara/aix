{
 "cells": [
  {
   "cell_type": "code",
   "execution_count": 23,
   "metadata": {},
   "outputs": [],
   "source": [
    "from aix.api.gemini_api import GeminiAPI\n",
    "from aix.conversation_manager import Config, ConversationHandler\n",
    "from aix.utils.configs import gemini_settings\n",
    "from aix.utils.functions import read_system_prompt\n"
   ]
  },
  {
   "cell_type": "code",
   "execution_count": 24,
   "metadata": {},
   "outputs": [],
   "source": [
    "gemini = GeminiAPI(\n",
    "    api_key=gemini_settings.api_key,\n",
    "    model=gemini_settings.models.GEMINI_FLASH.value,\n",
    "    system_prompt=read_system_prompt('general_assistant'),\n",
    ")\n",
    "\n",
    "app = ConversationHandler(\n",
    "    api=gemini, config=Config(print_code_block=False, print_error_block=False, print_file_content=False, markdown_language='python')\n",
    ")"
   ]
  },
  {
   "cell_type": "code",
   "execution_count": 25,
   "metadata": {},
   "outputs": [],
   "source": [
    "code_block = r\"\"\"\n",
    "\n",
    "\"\"\""
   ]
  },
  {
   "cell_type": "code",
   "execution_count": 26,
   "metadata": {},
   "outputs": [],
   "source": [
    "prompt = r\"\"\"\n",
    "I am doing good. Could be better.\n",
    "\"\"\""
   ]
  },
  {
   "cell_type": "code",
   "execution_count": 27,
   "metadata": {},
   "outputs": [],
   "source": [
    "app.send_message(prompt)"
   ]
  }
 ],
 "metadata": {
  "kernelspec": {
   "display_name": "Python 3",
   "language": "python",
   "name": "python3"
  },
  "language_info": {
   "codemirror_mode": {
    "name": "ipython",
    "version": 3
   },
   "file_extension": ".py",
   "mimetype": "text/x-python",
   "name": "python",
   "nbconvert_exporter": "python",
   "pygments_lexer": "ipython3",
   "version": "3.12.5"
  }
 },
 "nbformat": 4,
 "nbformat_minor": 2
}
